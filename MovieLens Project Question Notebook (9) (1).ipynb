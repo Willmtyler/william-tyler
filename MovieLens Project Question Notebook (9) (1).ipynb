{
 "cells": [
  {
   "cell_type": "code",
   "execution_count": 1,
   "metadata": {},
   "outputs": [],
   "source": [
    "# Import necessary packages\n",
    "import warnings\n",
    "warnings.filterwarnings('ignore')\n",
    "import pandas as pd # pandas is a data manipulation library\n",
    "import numpy as np #provides numerical arrays and functions to manipulate the arrays efficiently\n",
    "import random\n",
    "import matplotlib.pyplot as plt # data visualization library\n",
    "from wordcloud import WordCloud, STOPWORDS #used to generate world cloud\n",
    "import seaborn as sns\n",
    "\n",
    "%matplotlib inline\n",
    "from sklearn.metrics import r2_score\n",
    "\n",
    "from sklearn.model_selection import train_test_split\n",
    "\n",
    "from sklearn.model_selection import KFold\n",
    "\n",
    "from sklearn.model_selection import cross_val_score\n",
    "\n",
    "from sklearn.metrics import classification_report\n",
    "\n",
    "from sklearn.metrics import confusion_matrix\n",
    "\n",
    "from sklearn.metrics import accuracy_score\n",
    "\n",
    "from sklearn.linear_model import LogisticRegression\n",
    "\n",
    "from sklearn.tree import DecisionTreeClassifier\n",
    "\n",
    "from sklearn.neighbors import KNeighborsClassifier\n",
    "\n",
    "from sklearn.discriminant_analysis import LinearDiscriminantAnalysis\n",
    "\n",
    "from sklearn.naive_bayes import GaussianNB\n",
    "\n",
    "from sklearn.svm import SVC\n",
    "\n",
    "from collections import Counter"
   ]
  },
  {
   "cell_type": "code",
   "execution_count": 2,
   "metadata": {},
   "outputs": [],
   "source": [
    "# Importing item, movie date as well as user data which is all 3 data sets (reading 3 data sets into frames)\n",
    "\n",
    "df0 = pd.read_csv('C:/Users/william.tyler/Desktop/my great learning/item.csv')\n",
    "df1 = pd.read_csv('C:/Users/william.tyler/Desktop/my great learning/Data.csv')\n",
    "df = pd.read_csv('C:/Users/william.tyler/Desktop/my great learning/user.csv')"
   ]
  },
  {
   "cell_type": "code",
   "execution_count": 3,
   "metadata": {},
   "outputs": [
    {
     "data": {
      "text/plain": [
       "(1681, 22)"
      ]
     },
     "execution_count": 3,
     "metadata": {},
     "output_type": "execute_result"
    }
   ],
   "source": [
    "df0 = pd.read_csv('C:/Users/william.tyler/Desktop/my great learning/item.csv')\n",
    "df0.shape #item shape\n",
    "#observation\n",
    "#1681 rows & 22 columns for item"
   ]
  },
  {
   "cell_type": "code",
   "execution_count": 4,
   "metadata": {},
   "outputs": [
    {
     "data": {
      "text/plain": [
       "(100000, 4)"
      ]
     },
     "execution_count": 4,
     "metadata": {},
     "output_type": "execute_result"
    }
   ],
   "source": [
    "df1.shape #movie data shape\n",
    "#observation\n",
    "#for data, 100000 rows and 4 columns"
   ]
  },
  {
   "cell_type": "code",
   "execution_count": 5,
   "metadata": {},
   "outputs": [
    {
     "data": {
      "text/plain": [
       "(943, 5)"
      ]
     },
     "execution_count": 5,
     "metadata": {},
     "output_type": "execute_result"
    }
   ],
   "source": [
    "df.shape #user shape\n",
    "#observation\n",
    "#user has 943 rows & 5 columns"
   ]
  },
  {
   "cell_type": "code",
   "execution_count": 6,
   "metadata": {},
   "outputs": [
    {
     "data": {
      "text/html": [
       "<div>\n",
       "<style scoped>\n",
       "    .dataframe tbody tr th:only-of-type {\n",
       "        vertical-align: middle;\n",
       "    }\n",
       "\n",
       "    .dataframe tbody tr th {\n",
       "        vertical-align: top;\n",
       "    }\n",
       "\n",
       "    .dataframe thead th {\n",
       "        text-align: right;\n",
       "    }\n",
       "</style>\n",
       "<table border=\"1\" class=\"dataframe\">\n",
       "  <thead>\n",
       "    <tr style=\"text-align: right;\">\n",
       "      <th></th>\n",
       "      <th>movie id</th>\n",
       "      <th>movie title</th>\n",
       "      <th>release date</th>\n",
       "      <th>unknown</th>\n",
       "      <th>Action</th>\n",
       "      <th>Adventure</th>\n",
       "      <th>Animation</th>\n",
       "      <th>Childrens</th>\n",
       "      <th>Comedy</th>\n",
       "      <th>Crime</th>\n",
       "      <th>...</th>\n",
       "      <th>Fantasy</th>\n",
       "      <th>Film-Noir</th>\n",
       "      <th>Horror</th>\n",
       "      <th>Musical</th>\n",
       "      <th>Mystery</th>\n",
       "      <th>Romance</th>\n",
       "      <th>Sci-Fi</th>\n",
       "      <th>Thriller</th>\n",
       "      <th>War</th>\n",
       "      <th>Western</th>\n",
       "    </tr>\n",
       "  </thead>\n",
       "  <tbody>\n",
       "    <tr>\n",
       "      <th>0</th>\n",
       "      <td>1</td>\n",
       "      <td>Toy Story</td>\n",
       "      <td>1-Jan-95</td>\n",
       "      <td>0</td>\n",
       "      <td>0</td>\n",
       "      <td>0</td>\n",
       "      <td>1</td>\n",
       "      <td>1</td>\n",
       "      <td>1</td>\n",
       "      <td>0</td>\n",
       "      <td>...</td>\n",
       "      <td>0</td>\n",
       "      <td>0</td>\n",
       "      <td>0</td>\n",
       "      <td>0</td>\n",
       "      <td>0</td>\n",
       "      <td>0</td>\n",
       "      <td>0</td>\n",
       "      <td>0</td>\n",
       "      <td>0</td>\n",
       "      <td>0</td>\n",
       "    </tr>\n",
       "    <tr>\n",
       "      <th>1</th>\n",
       "      <td>2</td>\n",
       "      <td>GoldenEye</td>\n",
       "      <td>1-Jan-95</td>\n",
       "      <td>0</td>\n",
       "      <td>1</td>\n",
       "      <td>1</td>\n",
       "      <td>0</td>\n",
       "      <td>0</td>\n",
       "      <td>0</td>\n",
       "      <td>0</td>\n",
       "      <td>...</td>\n",
       "      <td>0</td>\n",
       "      <td>0</td>\n",
       "      <td>0</td>\n",
       "      <td>0</td>\n",
       "      <td>0</td>\n",
       "      <td>0</td>\n",
       "      <td>0</td>\n",
       "      <td>1</td>\n",
       "      <td>0</td>\n",
       "      <td>0</td>\n",
       "    </tr>\n",
       "    <tr>\n",
       "      <th>2</th>\n",
       "      <td>3</td>\n",
       "      <td>Four Rooms</td>\n",
       "      <td>1-Jan-95</td>\n",
       "      <td>0</td>\n",
       "      <td>0</td>\n",
       "      <td>0</td>\n",
       "      <td>0</td>\n",
       "      <td>0</td>\n",
       "      <td>0</td>\n",
       "      <td>0</td>\n",
       "      <td>...</td>\n",
       "      <td>0</td>\n",
       "      <td>0</td>\n",
       "      <td>0</td>\n",
       "      <td>0</td>\n",
       "      <td>0</td>\n",
       "      <td>0</td>\n",
       "      <td>0</td>\n",
       "      <td>1</td>\n",
       "      <td>0</td>\n",
       "      <td>0</td>\n",
       "    </tr>\n",
       "    <tr>\n",
       "      <th>3</th>\n",
       "      <td>4</td>\n",
       "      <td>Get Shorty</td>\n",
       "      <td>1-Jan-95</td>\n",
       "      <td>0</td>\n",
       "      <td>1</td>\n",
       "      <td>0</td>\n",
       "      <td>0</td>\n",
       "      <td>0</td>\n",
       "      <td>1</td>\n",
       "      <td>0</td>\n",
       "      <td>...</td>\n",
       "      <td>0</td>\n",
       "      <td>0</td>\n",
       "      <td>0</td>\n",
       "      <td>0</td>\n",
       "      <td>0</td>\n",
       "      <td>0</td>\n",
       "      <td>0</td>\n",
       "      <td>0</td>\n",
       "      <td>0</td>\n",
       "      <td>0</td>\n",
       "    </tr>\n",
       "    <tr>\n",
       "      <th>4</th>\n",
       "      <td>5</td>\n",
       "      <td>Copycat</td>\n",
       "      <td>1-Jan-95</td>\n",
       "      <td>0</td>\n",
       "      <td>0</td>\n",
       "      <td>0</td>\n",
       "      <td>0</td>\n",
       "      <td>0</td>\n",
       "      <td>0</td>\n",
       "      <td>1</td>\n",
       "      <td>...</td>\n",
       "      <td>0</td>\n",
       "      <td>0</td>\n",
       "      <td>0</td>\n",
       "      <td>0</td>\n",
       "      <td>0</td>\n",
       "      <td>0</td>\n",
       "      <td>0</td>\n",
       "      <td>1</td>\n",
       "      <td>0</td>\n",
       "      <td>0</td>\n",
       "    </tr>\n",
       "  </tbody>\n",
       "</table>\n",
       "<p>5 rows × 22 columns</p>\n",
       "</div>"
      ],
      "text/plain": [
       "   movie id  movie title release date  unknown  Action  Adventure  Animation  \\\n",
       "0         1    Toy Story     1-Jan-95        0       0          0          1   \n",
       "1         2   GoldenEye      1-Jan-95        0       1          1          0   \n",
       "2         3  Four Rooms      1-Jan-95        0       0          0          0   \n",
       "3         4  Get Shorty      1-Jan-95        0       1          0          0   \n",
       "4         5     Copycat      1-Jan-95        0       0          0          0   \n",
       "\n",
       "   Childrens  Comedy  Crime  ...  Fantasy  Film-Noir  Horror  Musical  \\\n",
       "0          1       1      0  ...        0          0       0        0   \n",
       "1          0       0      0  ...        0          0       0        0   \n",
       "2          0       0      0  ...        0          0       0        0   \n",
       "3          0       1      0  ...        0          0       0        0   \n",
       "4          0       0      1  ...        0          0       0        0   \n",
       "\n",
       "   Mystery  Romance  Sci-Fi  Thriller  War  Western  \n",
       "0        0        0       0         0    0        0  \n",
       "1        0        0       0         1    0        0  \n",
       "2        0        0       0         1    0        0  \n",
       "3        0        0       0         0    0        0  \n",
       "4        0        0       0         1    0        0  \n",
       "\n",
       "[5 rows x 22 columns]"
      ]
     },
     "execution_count": 6,
     "metadata": {},
     "output_type": "execute_result"
    }
   ],
   "source": [
    "df0.head()# ITEM head"
   ]
  },
  {
   "cell_type": "code",
   "execution_count": 7,
   "metadata": {},
   "outputs": [
    {
     "data": {
      "text/html": [
       "<div>\n",
       "<style scoped>\n",
       "    .dataframe tbody tr th:only-of-type {\n",
       "        vertical-align: middle;\n",
       "    }\n",
       "\n",
       "    .dataframe tbody tr th {\n",
       "        vertical-align: top;\n",
       "    }\n",
       "\n",
       "    .dataframe thead th {\n",
       "        text-align: right;\n",
       "    }\n",
       "</style>\n",
       "<table border=\"1\" class=\"dataframe\">\n",
       "  <thead>\n",
       "    <tr style=\"text-align: right;\">\n",
       "      <th></th>\n",
       "      <th>user id</th>\n",
       "      <th>movie id</th>\n",
       "      <th>rating</th>\n",
       "      <th>timestamp</th>\n",
       "    </tr>\n",
       "  </thead>\n",
       "  <tbody>\n",
       "    <tr>\n",
       "      <th>0</th>\n",
       "      <td>196</td>\n",
       "      <td>242</td>\n",
       "      <td>3</td>\n",
       "      <td>881250949</td>\n",
       "    </tr>\n",
       "    <tr>\n",
       "      <th>1</th>\n",
       "      <td>186</td>\n",
       "      <td>302</td>\n",
       "      <td>3</td>\n",
       "      <td>891717742</td>\n",
       "    </tr>\n",
       "    <tr>\n",
       "      <th>2</th>\n",
       "      <td>22</td>\n",
       "      <td>377</td>\n",
       "      <td>1</td>\n",
       "      <td>878887116</td>\n",
       "    </tr>\n",
       "    <tr>\n",
       "      <th>3</th>\n",
       "      <td>244</td>\n",
       "      <td>51</td>\n",
       "      <td>2</td>\n",
       "      <td>880606923</td>\n",
       "    </tr>\n",
       "    <tr>\n",
       "      <th>4</th>\n",
       "      <td>166</td>\n",
       "      <td>346</td>\n",
       "      <td>1</td>\n",
       "      <td>886397596</td>\n",
       "    </tr>\n",
       "  </tbody>\n",
       "</table>\n",
       "</div>"
      ],
      "text/plain": [
       "   user id  movie id  rating  timestamp\n",
       "0      196       242       3  881250949\n",
       "1      186       302       3  891717742\n",
       "2       22       377       1  878887116\n",
       "3      244        51       2  880606923\n",
       "4      166       346       1  886397596"
      ]
     },
     "execution_count": 7,
     "metadata": {},
     "output_type": "execute_result"
    }
   ],
   "source": [
    "df1.head()# movie data head"
   ]
  },
  {
   "cell_type": "code",
   "execution_count": 8,
   "metadata": {},
   "outputs": [
    {
     "data": {
      "text/html": [
       "<div>\n",
       "<style scoped>\n",
       "    .dataframe tbody tr th:only-of-type {\n",
       "        vertical-align: middle;\n",
       "    }\n",
       "\n",
       "    .dataframe tbody tr th {\n",
       "        vertical-align: top;\n",
       "    }\n",
       "\n",
       "    .dataframe thead th {\n",
       "        text-align: right;\n",
       "    }\n",
       "</style>\n",
       "<table border=\"1\" class=\"dataframe\">\n",
       "  <thead>\n",
       "    <tr style=\"text-align: right;\">\n",
       "      <th></th>\n",
       "      <th>user id</th>\n",
       "      <th>age</th>\n",
       "      <th>gender</th>\n",
       "      <th>occupation</th>\n",
       "      <th>zip code</th>\n",
       "    </tr>\n",
       "  </thead>\n",
       "  <tbody>\n",
       "    <tr>\n",
       "      <th>0</th>\n",
       "      <td>1</td>\n",
       "      <td>24</td>\n",
       "      <td>M</td>\n",
       "      <td>technician</td>\n",
       "      <td>85711</td>\n",
       "    </tr>\n",
       "    <tr>\n",
       "      <th>1</th>\n",
       "      <td>2</td>\n",
       "      <td>53</td>\n",
       "      <td>F</td>\n",
       "      <td>other</td>\n",
       "      <td>94043</td>\n",
       "    </tr>\n",
       "    <tr>\n",
       "      <th>2</th>\n",
       "      <td>3</td>\n",
       "      <td>23</td>\n",
       "      <td>M</td>\n",
       "      <td>writer</td>\n",
       "      <td>32067</td>\n",
       "    </tr>\n",
       "    <tr>\n",
       "      <th>3</th>\n",
       "      <td>4</td>\n",
       "      <td>24</td>\n",
       "      <td>M</td>\n",
       "      <td>technician</td>\n",
       "      <td>43537</td>\n",
       "    </tr>\n",
       "    <tr>\n",
       "      <th>4</th>\n",
       "      <td>5</td>\n",
       "      <td>33</td>\n",
       "      <td>F</td>\n",
       "      <td>other</td>\n",
       "      <td>15213</td>\n",
       "    </tr>\n",
       "  </tbody>\n",
       "</table>\n",
       "</div>"
      ],
      "text/plain": [
       "   user id  age gender  occupation zip code\n",
       "0        1   24      M  technician    85711\n",
       "1        2   53      F       other    94043\n",
       "2        3   23      M      writer    32067\n",
       "3        4   24      M  technician    43537\n",
       "4        5   33      F       other    15213"
      ]
     },
     "execution_count": 8,
     "metadata": {},
     "output_type": "execute_result"
    }
   ],
   "source": [
    "df.head() #user data head"
   ]
  },
  {
   "cell_type": "code",
   "execution_count": 9,
   "metadata": {},
   "outputs": [
    {
     "name": "stdout",
     "output_type": "stream",
     "text": [
      "<class 'pandas.core.frame.DataFrame'>\n",
      "RangeIndex: 100000 entries, 0 to 99999\n",
      "Data columns (total 4 columns):\n",
      " #   Column     Non-Null Count   Dtype\n",
      "---  ------     --------------   -----\n",
      " 0   user id    100000 non-null  int64\n",
      " 1   movie id   100000 non-null  int64\n",
      " 2   rating     100000 non-null  int64\n",
      " 3   timestamp  100000 non-null  int64\n",
      "dtypes: int64(4)\n",
      "memory usage: 3.1 MB\n",
      "<class 'pandas.core.frame.DataFrame'>\n",
      "RangeIndex: 1681 entries, 0 to 1680\n",
      "Data columns (total 22 columns):\n",
      " #   Column        Non-Null Count  Dtype \n",
      "---  ------        --------------  ----- \n",
      " 0   movie id      1681 non-null   int64 \n",
      " 1   movie title   1681 non-null   object\n",
      " 2   release date  1681 non-null   object\n",
      " 3   unknown       1681 non-null   int64 \n",
      " 4   Action        1681 non-null   int64 \n",
      " 5   Adventure     1681 non-null   int64 \n",
      " 6   Animation     1681 non-null   int64 \n",
      " 7   Childrens     1681 non-null   int64 \n",
      " 8   Comedy        1681 non-null   int64 \n",
      " 9   Crime         1681 non-null   int64 \n",
      " 10  Documentary   1681 non-null   int64 \n",
      " 11  Drama         1681 non-null   int64 \n",
      " 12  Fantasy       1681 non-null   int64 \n",
      " 13  Film-Noir     1681 non-null   int64 \n",
      " 14  Horror        1681 non-null   int64 \n",
      " 15  Musical       1681 non-null   int64 \n",
      " 16  Mystery       1681 non-null   int64 \n",
      " 17  Romance       1681 non-null   int64 \n",
      " 18  Sci-Fi        1681 non-null   int64 \n",
      " 19  Thriller      1681 non-null   int64 \n",
      " 20  War           1681 non-null   int64 \n",
      " 21  Western       1681 non-null   int64 \n",
      "dtypes: int64(20), object(2)\n",
      "memory usage: 289.0+ KB\n",
      "<class 'pandas.core.frame.DataFrame'>\n",
      "RangeIndex: 943 entries, 0 to 942\n",
      "Data columns (total 5 columns):\n",
      " #   Column      Non-Null Count  Dtype \n",
      "---  ------      --------------  ----- \n",
      " 0   user id     943 non-null    int64 \n",
      " 1   age         943 non-null    int64 \n",
      " 2   gender      943 non-null    object\n",
      " 3   occupation  943 non-null    object\n",
      " 4   zip code    943 non-null    object\n",
      "dtypes: int64(2), object(3)\n",
      "memory usage: 37.0+ KB\n"
     ]
    }
   ],
   "source": [
    "df1.info() # movie data info\n",
    "df0.info()#item info\n",
    "df.info()#user info"
   ]
  },
  {
   "cell_type": "code",
   "execution_count": 10,
   "metadata": {},
   "outputs": [
    {
     "data": {
      "text/plain": [
       "movie id        False\n",
       "movie title     False\n",
       "release date    False\n",
       "unknown         False\n",
       "Action          False\n",
       "Adventure       False\n",
       "Animation       False\n",
       "Childrens       False\n",
       "Comedy          False\n",
       "Crime           False\n",
       "Documentary     False\n",
       "Drama           False\n",
       "Fantasy         False\n",
       "Film-Noir       False\n",
       "Horror          False\n",
       "Musical         False\n",
       "Mystery         False\n",
       "Romance         False\n",
       "Sci-Fi          False\n",
       "Thriller        False\n",
       "War             False\n",
       "Western         False\n",
       "dtype: bool"
      ]
     },
     "execution_count": 10,
     "metadata": {},
     "output_type": "execute_result"
    }
   ],
   "source": [
    "df0.isnull().any() #ITEM"
   ]
  },
  {
   "cell_type": "code",
   "execution_count": 11,
   "metadata": {
    "scrolled": true
   },
   "outputs": [
    {
     "data": {
      "text/plain": [
       "user id       False\n",
       "age           False\n",
       "gender        False\n",
       "occupation    False\n",
       "zip code      False\n",
       "dtype: bool"
      ]
     },
     "execution_count": 11,
     "metadata": {},
     "output_type": "execute_result"
    }
   ],
   "source": [
    "df.isnull().any() #user"
   ]
  },
  {
   "cell_type": "code",
   "execution_count": 12,
   "metadata": {},
   "outputs": [
    {
     "data": {
      "text/plain": [
       "user id      False\n",
       "movie id     False\n",
       "rating       False\n",
       "timestamp    False\n",
       "dtype: bool"
      ]
     },
     "execution_count": 12,
     "metadata": {},
     "output_type": "execute_result"
    }
   ],
   "source": [
    "df1.isnull().any()#movie data"
   ]
  },
  {
   "cell_type": "markdown",
   "metadata": {},
   "source": [
    "#Observation 1: All datasets aren't missing any data.\n",
    "#Observation 2: There are 19 movie genres.\n",
    "#Observation 3: Movie titles can fall under more than one genre i.e \"Get Shorty\" is in both action and comedy genres."
   ]
  },
  {
   "cell_type": "code",
   "execution_count": 13,
   "metadata": {},
   "outputs": [],
   "source": [
    "# Dropping Movie with Category unknown, Movie Title 'Good Morning'"
   ]
  },
  {
   "cell_type": "code",
   "execution_count": 14,
   "metadata": {
    "scrolled": true
   },
   "outputs": [
    {
     "data": {
      "text/plain": [
       "unknown          1\n",
       "Fantasy         22\n",
       "Film-Noir       24\n",
       "Western         27\n",
       "Animation       42\n",
       "Documentary     50\n",
       "Musical         56\n",
       "Mystery         61\n",
       "War             71\n",
       "Horror          92\n",
       "Sci-Fi         101\n",
       "Crime          109\n",
       "Childrens      122\n",
       "Adventure      135\n",
       "Romance        247\n",
       "Action         251\n",
       "Thriller       251\n",
       "Comedy         505\n",
       "Drama          725\n",
       "dtype: int64"
      ]
     },
     "execution_count": 14,
     "metadata": {},
     "output_type": "execute_result"
    }
   ],
   "source": [
    "df0.drop(columns = [\"movie id\", \"movie title\", \"release date\"]).sum().sort_values(ascending=True)\n",
    "#observation:\n",
    "#only 1 unknown genre title is good morning and the most referenced genre is drama"
   ]
  },
  {
   "cell_type": "code",
   "execution_count": 15,
   "metadata": {},
   "outputs": [
    {
     "data": {
      "text/plain": [
       "'Good Morning '"
      ]
     },
     "execution_count": 15,
     "metadata": {},
     "output_type": "execute_result"
    }
   ],
   "source": [
    "df0.loc[df0['unknown'] == 1,\"movie title\"].values[0]"
   ]
  },
  {
   "cell_type": "code",
   "execution_count": 16,
   "metadata": {},
   "outputs": [],
   "source": [
    "unknown = df0.loc[df0['unknown'] == 1,\"movie id\"].values[0]"
   ]
  },
  {
   "cell_type": "code",
   "execution_count": 17,
   "metadata": {},
   "outputs": [
    {
     "name": "stdout",
     "output_type": "stream",
     "text": [
      "1373\n"
     ]
    }
   ],
   "source": [
    "print(unknown)"
   ]
  },
  {
   "cell_type": "code",
   "execution_count": 18,
   "metadata": {
    "scrolled": false
   },
   "outputs": [],
   "source": [
    "# \"good morning\" in the \"unknown category has been dropped\"\n",
    "\n",
    "df0.drop([unknown-2])\n",
    "df0 = df0.drop([unknown-2])"
   ]
  },
  {
   "cell_type": "code",
   "execution_count": 19,
   "metadata": {},
   "outputs": [],
   "source": [
    "# Find the movies that have more than one genre "
   ]
  },
  {
   "cell_type": "code",
   "execution_count": 20,
   "metadata": {
    "scrolled": false
   },
   "outputs": [
    {
     "data": {
      "text/plain": [
       "0                Toy Story\n",
       "1               GoldenEye \n",
       "3              Get Shorty \n",
       "4                 Copycat \n",
       "6          Twelve Monkeys \n",
       "               ...        \n",
       "1667    MURDER and murder \n",
       "1668              Tainted \n",
       "1671               Mirage \n",
       "1677            B. Monkey \n",
       "1678        Sliding Doors \n",
       "Name: movie title, Length: 849, dtype: object"
      ]
     },
     "execution_count": 20,
     "metadata": {},
     "output_type": "execute_result"
    }
   ],
   "source": [
    "df0.loc[df0.drop(columns = [\"movie id\", \"movie title\", \"release date\"]).sum(axis = 1)>1,\"movie title\"]"
   ]
  },
  {
   "cell_type": "code",
   "execution_count": 21,
   "metadata": {},
   "outputs": [],
   "source": [
    "DFGenre_Movie_Title = df0.drop(columns = [\"movie id\", \"release date\"])"
   ]
  },
  {
   "cell_type": "code",
   "execution_count": 22,
   "metadata": {
    "scrolled": true
   },
   "outputs": [],
   "source": [
    "Genre_Sum = DFGenre_Movie_Title.sum(axis = 1)"
   ]
  },
  {
   "cell_type": "code",
   "execution_count": 23,
   "metadata": {
    "scrolled": false
   },
   "outputs": [
    {
     "name": "stdout",
     "output_type": "stream",
     "text": [
      "Toy Story\n",
      "GoldenEye \n",
      "Get Shorty \n",
      "Copycat \n",
      "Twelve Monkeys \n",
      "Babe \n",
      "Richard III \n",
      "Seven (Se7en) \n",
      "Usual Suspects, The \n",
      "Postino, Il \n",
      "French Twist (Gazon maudit) \n",
      "From Dusk Till Dawn \n",
      "Angels and Insects \n",
      "Muppet Treasure Island \n",
      "Braveheart \n",
      "Taxi Driver \n",
      "Rumble in the Bronx \n",
      "Apollo 13 \n",
      "Batman Forever \n",
      "Crimson Tide \n",
      "Desperado \n",
      "Doom Generation, The \n",
      "Free Willy 2: The Adventure Home \n",
      "Mad Love \n",
      "Net, The \n",
      "Strange Days \n",
      "Disclosure \n",
      "Dolores Claiborne \n",
      "Eat Drink Man Woman \n",
      "Ed Wood \n",
      "I.Q. \n",
      "Star Wars \n",
      "Legends of the Fall \n",
      "Natural Born Killers \n",
      "Outbreak \n",
      "Professional, The \n",
      "Pulp Fiction \n",
      "Stargate \n",
      "Santa Clause, The \n",
      "What's Eating Gilbert Grape \n",
      "While You Were Sleeping \n",
      "Crow, The \n",
      "Forrest Gump \n",
      "Four Weddings and a Funeral \n",
      "Lion King, The \n",
      "Mask, The \n",
      "Maverick \n",
      "Faster Pussycat! Kill! Kill! \n",
      "Carlito's Way \n",
      "Firm, The \n",
      "Free Willy \n",
      "Fugitive, The \n",
      "Hot Shots! Part Deux \n",
      "Hudsucker Proxy, The \n",
      "Jurassic Park \n",
      "Much Ado About Nothing \n",
      "Robert A. Heinlein's The Puppet Masters \n",
      "Sleepless in Seattle \n",
      "Blade Runner \n",
      "So I Married an Axe Murderer \n",
      "Nightmare Before Christmas, The \n",
      "True Romance \n",
      "Welcome to the Dollhouse \n",
      "Home Alone \n",
      "Aladdin \n",
      "Terminator 2: Judgment Day \n",
      "Dances with Wolves \n",
      "Silence of the Lambs, The \n",
      "Snow White and the Seven Dwarfs \n",
      "Fargo \n",
      "Heavy Metal \n",
      "Aristocats, The \n",
      "All Dogs Go to Heaven 2 \n",
      "Diabolique \n",
      "Mystery Science Theater 3000: The Movie \n",
      "Operation Dumbo Drop \n",
      "Truth About Cats & Dogs, The \n",
      "Flipper \n",
      "Rock, The \n",
      "Twister \n",
      "Striptease \n",
      "Independence Day (ID4) \n",
      "Frighteners, The \n",
      "Lone Star \n",
      "Phenomenon \n",
      "Godfather, The \n",
      "Supercop \n",
      "Bound \n",
      "Breakfast at Tiffany's \n",
      "Wizard of Oz, The \n",
      "Gone with the Wind \n",
      "2001: A Space Odyssey \n",
      "D3: The Mighty Ducks \n",
      "Love Bug, The \n",
      "Homeward Bound: The Incredible Journey \n",
      "20,000 Leagues Under the Sea \n",
      "Bedknobs and Broomsticks \n",
      "Die Hard \n",
      "Lawnmower Man, The \n",
      "Long Kiss Goodnight, The \n",
      "Ghost and the Darkness, The \n",
      "Swingers \n",
      "Willy Wonka and the Chocolate Factory \n",
      "Sleeper \n",
      "Dirty Dancing \n",
      "Reservoir Dogs \n",
      "Platoon \n",
      "Basic Instinct \n",
      "Top Gun \n",
      "Abyss, The \n",
      "Wrong Trousers, The \n",
      "Cinema Paradiso \n",
      "Delicatessen \n",
      "Empire Strikes Back, The \n",
      "Princess Bride, The \n",
      "Raiders of the Lost Ark \n",
      "Aliens \n",
      "Good, The Bad and The Ugly, The \n",
      "Apocalypse Now \n",
      "Return of the Jedi \n",
      "GoodFellas \n",
      "Alien \n",
      "Army of Darkness \n",
      "Psycho \n",
      "Blues Brothers, The \n",
      "Godfather: Part II, The \n",
      "Full Metal Jacket \n",
      "Grand Day Out, A \n",
      "Henry V \n",
      "Amadeus \n",
      "Sting, The \n",
      "Terminator, The \n",
      "Graduate, The \n",
      "Bridge on the River Kwai, The \n",
      "Evil Dead II \n",
      "Groundhog Day \n",
      "Back to the Future \n",
      "Patton \n",
      "Akira \n",
      "Cyrano de Bergerac \n",
      "Young Frankenstein \n",
      "This Is Spinal Tap \n",
      "Indiana Jones and the Last Crusade \n",
      "M*A*S*H \n",
      "Room with a View, A \n",
      "Pink Floyd - The Wall \n",
      "When Harry Met Sally... \n",
      "Bram Stoker's Dracula \n",
      "Mirror Has Two Faces, The \n",
      "Star Trek: First Contact \n",
      "Sling Blade \n",
      "101 Dalmatians \n",
      "Die Hard 2 \n",
      "Star Trek VI: The Undiscovered Country \n",
      "Star Trek: The Wrath of Khan \n",
      "Star Trek III: The Search for Spock \n",
      "Star Trek IV: The Voyage Home \n",
      "Batman Returns \n",
      "Young Guns \n",
      "Jaws \n",
      "Mars Attacks! \n",
      "Citizen Ruth \n",
      "Jerry Maguire \n",
      "Sneakers \n",
      "Beavis and Butt-head Do America \n",
      "Last of the Mohicans, The \n",
      "Jungle2Jungle \n",
      "Smilla's Sense of Snow \n",
      "Devil's Own, The \n",
      "Chasing Amy \n",
      "Turbo: A Power Rangers Movie \n",
      "Grosse Pointe Blank \n",
      "Fifth Element, The \n",
      "Lost World: Jurassic Park, The \n",
      "Pillow Book, The \n",
      "Batman & Robin \n",
      "My Best Friend's Wedding \n",
      "When the Cats Away (Chacun cherche son chat) \n",
      "Men in Black \n",
      "Contact \n",
      "George of the Jungle \n",
      "Event Horizon \n",
      "Air Bud \n",
      "Mimic \n",
      "Hunt for Red October, The \n",
      "Kull the Conqueror \n",
      "Chasing Amy \n",
      "Gattaca \n",
      "Starship Troopers \n",
      "Heat \n",
      "Sabrina \n",
      "Sense and Sensibility \n",
      "Leaving Las Vegas \n",
      "Bed of Roses \n",
      "Up Close and Personal \n",
      "River Wild, The \n",
      "Emma \n",
      "Tin Cup \n",
      "English Patient, The \n",
      "Scream \n",
      "Evita \n",
      "Absolute Power \n",
      "Donnie Brasco \n",
      "Breakdown \n",
      "Face/Off \n",
      "Hoodlum \n",
      "Air Force One \n",
      "L.A. Confidential \n",
      "Fly Away Home \n",
      "Mrs. Brown (Her Majesty, Mrs. Brown) \n",
      "Devil's Advocate, The \n",
      "FairyTale: A True Story \n",
      "Wings of the Dove, The \n",
      "Midnight in the Garden of Good and Evil \n",
      "Titanic \n",
      "3 Ninjas: High Noon At Mega Mountain \n",
      "Apt Pupil \n",
      "As Good As It Gets \n",
      "Schindler's List \n",
      "Everyone Says I Love You \n",
      "Murder at 1600 \n",
      "Dante's Peak \n",
      "Crash \n",
      "G.I. Jane \n",
      "Cop Land \n",
      "Conspiracy Theory \n",
      "Desperate Measures \n",
      "Edge, The \n",
      "Kiss the Girls \n",
      "Game, The \n",
      "U Turn \n",
      "Playing God \n",
      "House of Yes, The \n",
      "Mad City \n",
      "Man Who Knew Too Little, The \n",
      "Alien: Resurrection \n",
      "Deconstructing Harry \n",
      "Jackie Brown \n",
      "Wag the Dog \n",
      "Desperate Measures \n",
      "Hard Rain \n",
      "Fallen \n",
      "Spice World \n",
      "Deep Rising \n",
      "Wedding Singer, The \n",
      "Sphere \n",
      "Client, The \n",
      "Spawn \n",
      "Incognito \n",
      "Blues Brothers 2000 \n",
      "Mary Reilly \n",
      "Bridges of Madison County, The \n",
      "Judge Dredd \n",
      "Mighty Morphin Power Rangers: The Movie \n",
      "Heavyweights \n",
      "Star Trek: Generations \n",
      "Muriel's Wedding \n",
      "Adventures of Priscilla, Queen of the Desert, The \n",
      "Flintstones, The \n",
      "True Lies \n",
      "Beverly Hills Cop III \n",
      "Black Beauty \n",
      "Last Action Hero \n",
      "Radioland Murders \n",
      "Serial Mom \n",
      "Super Mario Bros. \n",
      "Three Musketeers, The \n",
      "Little Rascals, The \n",
      "Ghost \n",
      "Batman \n",
      "Pinocchio \n",
      "Mission: Impossible \n",
      "Thinner \n",
      "Close Shave, A \n",
      "Jack \n",
      "Nutty Professor, The \n",
      "Apple Dumpling Gang, The \n",
      "Old Yeller \n",
      "Parent Trap, The \n",
      "Cinderella \n",
      "Mary Poppins \n",
      "Alice in Wonderland \n",
      "William Shakespeare's Romeo and Juliet \n",
      "Aladdin and the King of Thieves \n",
      "E.T. the Extra-Terrestrial \n",
      "Transformers: The Movie, The \n",
      "Day the Earth Stood Still, The \n",
      "Duck Soup \n",
      "Highlander \n",
      "Fantasia \n",
      "Butch Cassidy and the Sundance Kid \n",
      "Blob, The \n",
      "Star Trek: The Motion Picture \n",
      "Star Trek V: The Final Frontier \n",
      "Grease \n",
      "Jaws 2 \n",
      "Jaws 3-D \n",
      "Beverly Hills Ninja \n",
      "Free Willy 3: The Rescue \n",
      "Like Water For Chocolate (Como agua para chocolate) \n",
      "Jungle Book, The \n",
      "Courage Under Fire \n",
      "Dragonheart \n",
      "James and the Giant Peach \n",
      "Dr. Strangelove or: How I Learned to Stop Worrying and Love the Bomb \n",
      "Matilda \n",
      "Philadelphia Story, The \n",
      "Vertigo \n",
      "North by Northwest \n",
      "Apartment, The \n",
      "Some Like It Hot \n",
      "Casablanca \n",
      "Maltese Falcon, The \n",
      "My Fair Lady \n",
      "Sabrina \n",
      "Roman Holiday \n",
      "Notorious \n",
      "To Catch a Thief \n",
      "Adventures of Robin Hood, The \n",
      "Around the World in 80 Days \n",
      "African Queen, The \n",
      "Fly Away Home \n",
      "Dumbo \n",
      "Bananas \n",
      "Bonnie and Clyde \n",
      "Dial M for Murder \n",
      "Magnificent Seven, The \n",
      "Lawrence of Arabia \n",
      "Wings of Desire \n",
      "Third Man, The \n",
      "Annie Hall \n",
      "Boot, Das \n",
      "Manhattan \n",
      "Great Escape, The \n",
      "Deer Hunter, The \n",
      "Down by Law \n",
      "Cool Hand Luke \n",
      "Big Sleep, The \n",
      "Ben-Hur \n",
      "Killing Fields, The \n",
      "Shine \n",
      "Addicted to Love \n",
      "Anastasia \n",
      "Mouse Hunt \n",
      "Mortal Kombat \n",
      "Pocahontas \n",
      "Misérables, Les \n",
      "Things to Do in Denver when You're Dead \n",
      "Vampire in Brooklyn \n",
      "Broken Arrow \n",
      "NeverEnding Story III, The \n",
      "Rob Roy \n",
      "Die Hard: With a Vengeance \n",
      "Walk in the Clouds, A \n",
      "Waterworld \n",
      "Farinelli: il castrato \n",
      "Heavenly Creatures \n",
      "Interview with the Vampire \n",
      "Kid in King Arthur's Court, A \n",
      "Mary Shelley's Frankenstein \n",
      "Quick and the Dead, The \n",
      "Tales from the Hood \n",
      "Village of the Damned \n",
      "Clear and Present Danger \n",
      "Speed \n",
      "Wolf \n",
      "Another Stakeout \n",
      "Blown Away \n",
      "Body Snatchers \n",
      "Boxing Helena \n",
      "City Slickers II: The Legend of Curly's Gold \n",
      "Cliffhanger \n",
      "Coneheads \n",
      "Demolition Man \n",
      "Englishman Who Went Up a Hill, But Came Down a Mountain, The \n",
      "Kalifornia \n",
      "Piano, The \n",
      "Romeo Is Bleeding \n",
      "Secret Garden, The \n",
      "Hour of the Pig, The \n",
      "Beauty and the Beast \n",
      "Hellraiser: Bloodline \n",
      "Primal Fear \n",
      "True Crime \n",
      "Heavy \n",
      "Hunchback of Notre Dame, The \n",
      "Eraser \n",
      "Big Squeeze, The \n",
      "For Whom the Bell Tolls \n",
      "American in Paris, An \n",
      "Rear Window \n",
      "Rebecca \n",
      "Spellbound \n",
      "Laura \n",
      "Night of the Living Dead \n",
      "Extreme Measures \n",
      "Swiss Family Robinson \n",
      "Angels in the Outfield \n",
      "Three Caballeros, The \n",
      "Sword in the Stone, The \n",
      "So Dear to My Heart \n",
      "Sleepers \n",
      "Victor/Victoria \n",
      "Great Race, The \n",
      "Crying Game, The \n",
      "Escape from New York \n",
      "Howling, The \n",
      "Paths of Glory \n",
      "Grifters, The \n",
      "The Innocent \n",
      "Ran \n",
      "Quiet Man, The \n",
      "Once Upon a Time in America \n",
      "Glory \n",
      "Rosencrantz and Guildenstern Are Dead \n",
      "Touch of Evil \n",
      "Chinatown \n",
      "Stand by Me \n",
      "M \n",
      "Manchurian Candidate, The \n",
      "Arsenic and Old Lace \n",
      "Somewhere in Time \n",
      "Alien 3 \n",
      "Blood Beach \n",
      "Body Snatchers \n",
      "Cape Fear \n",
      "Volcano \n",
      "Conan the Barbarian \n",
      "Kull the Conqueror \n",
      "I Know What You Did Last Summer \n",
      "In the Line of Fire \n",
      "Executive Decision \n",
      "Perfect World, A \n",
      "McHale's Navy \n",
      "Jackal, The \n",
      "Seven Years in Tibet \n",
      "Dark City \n",
      "American President, The \n",
      "Kicking and Screaming \n",
      "City Hall \n",
      "Barcelona \n",
      "House of the Spirits, The \n",
      "Singin' in the Rain \n",
      "Strictly Ballroom \n",
      "Tin Men \n",
      "Carrington \n",
      "To Die For \n",
      "Home for the Holidays \n",
      "Juror, The \n",
      "Canadian Bacon \n",
      "First Knight \n",
      "Boys on the Side \n",
      "Circle of Friends \n",
      "Fluke \n",
      "Immortal Beloved \n",
      "Junior \n",
      "Queen Margot (Reine Margot, La) \n",
      "Corrina, Corrina \n",
      "Dave \n",
      "Go Fish \n",
      "Shadowlands \n",
      "Sirens \n",
      "Threesome \n",
      "Pretty Woman \n",
      "Jane Eyre \n",
      "Last Supper, The \n",
      "Ransom \n",
      "Crow: City of Angels, The \n",
      "Michael Collins \n",
      "Benny & Joon \n",
      "Saint, The \n",
      "MatchMaker, The \n",
      "Tomorrow Never Dies \n",
      "Replacement Killers, The \n",
      "Red Corner \n",
      "Jumanji \n",
      "Lawnmower Man 2: Beyond Cyberspace \n",
      "Nick of Time \n",
      "If Lucy Fell \n",
      "Boomerang \n",
      "Casper \n",
      "Congo \n",
      "Devil in a Blue Dress \n",
      "Johnny Mnemonic \n",
      "Something to Talk About \n",
      "Don Juan DeMarco \n",
      "French Kiss \n",
      "Milk Money \n",
      "Beyond Bedlam \n",
      "Only You \n",
      "Perez Family, The \n",
      "Roommates \n",
      "Relative Fear \n",
      "Swimming with Sharks \n",
      "It Could Happen to You \n",
      "Richie Rich \n",
      "Speechless \n",
      "Timecop \n",
      "In the Mouth of Madness \n",
      "Hard Target \n",
      "Heaven & Earth \n",
      "Manhattan Murder Mystery \n",
      "Menace II Society \n",
      "Program, The \n",
      "Rising Sun \n",
      "Andre \n",
      "One Fine Day \n",
      "Space Jam \n",
      "Mrs. Winterbourne \n",
      "Mulholland Falls \n",
      "Arrival, The \n",
      "Daylight \n",
      "Alaska \n",
      "Fled \n",
      "Power 98 \n",
      "Escape from L.A. \n",
      "Bogus \n",
      "Halloween: The Curse of Michael Myers \n",
      "Gay Divorcee, The \n",
      "Ninotchka \n",
      "Loch Ness \n",
      "Last Man Standing \n",
      "Glimmer Man, The \n",
      "Pollyanna \n",
      "Shaggy Dog, The \n",
      "To Gillian on Her 37th Birthday \n",
      "Looking for Richard \n",
      "Murder, My Sweet \n",
      "Days of Thunder \n",
      "Bloody Child, The \n",
      "Braindead \n",
      "Bad Taste \n",
      "Diva \n",
      "Night on Earth \n",
      "April Fool's Day \n",
      "Believers, The \n",
      "Jingle All the Way \n",
      "Michael \n",
      "Fools Rush In \n",
      "Picture Perfect \n",
      "She's So Lovely \n",
      "Money Talks \n",
      "Excess Baggage \n",
      "That Darn Cat! \n",
      "Peacemaker, The \n",
      "Money Talks \n",
      "Life Less Ordinary, A \n",
      "Mortal Kombat: Annihilation \n",
      "Bent \n",
      "Flubber \n",
      "Home Alone 3 \n",
      "Scream 2 \n",
      "Time Tracers \n",
      "Big Lebowski, The \n",
      "Afterglow \n",
      "Ma vie en rose (My Life in Pink) \n",
      "Great Expectations \n",
      "Oscar & Lucinda \n",
      "Twilight \n",
      "U.S. Marshalls \n",
      "Wild Things \n",
      "Lost in Space \n",
      "Mercury Rising \n",
      "City of Lost Children, The \n",
      "Farewell My Concubine \n",
      "White Squall \n",
      "Unforgettable \n",
      "Craft, The \n",
      "Harriet the Spy \n",
      "Chain Reaction \n",
      "Island of Dr. Moreau, The \n",
      "First Kid \n",
      "Paradise Road \n",
      "Brassed Off \n",
      "Smile Like Yours, A \n",
      "Murder in the First \n",
      "With Honors \n",
      "Renaissance Man \n",
      "Charade \n",
      "Fox and the Hound, The \n",
      "Big Blue, The (Grand bleu, Le) \n",
      "Booty Call \n",
      "How to Make an American Quilt \n",
      "Indian in the Cupboard, The \n",
      "Unstrung Heroes \n",
      "Before Sunrise \n",
      "Some Folks Call It a Sling Blade \n",
      "Month by the Lake, A \n",
      "Funny Face \n",
      "Winnie the Pooh and the Blustery Day \n",
      "Mediterraneo \n",
      "Eye for an Eye \n",
      "Solo \n",
      "Heaven's Prisoners \n",
      "Trigger Effect, The \n",
      "Maximum Risk \n",
      "Beautician and the Beast, The \n",
      "Cats Don't Dance \n",
      "Anna Karenina \n",
      "Head Above Water \n",
      "Hercules \n",
      "Big Green, The \n",
      "Lightning Jack \n",
      "That Darn Cat! \n",
      "Geronimo: An American Legend \n",
      "Until the End of the World (Bis ans Ende der Welt) \n",
      "Private Parts \n",
      "Anaconda \n",
      "Shiloh \n",
      "Con Air \n",
      "Die xue shuang xiong (Killer, The) \n",
      "Gaslight \n",
      "Fire Down Below \n",
      "Lay of the Land, The \n",
      "Grumpier Old Men \n",
      "Lassie \n",
      "Little Big League \n",
      "Homeward Bound II: Lost in San Francisco \n",
      "Quest, The \n",
      "Drop Dead Fred \n",
      "Grease 2 \n",
      "Two if by Sea \n",
      "Forget Paris \n",
      "Just Cause \n",
      "Paper, The \n",
      "She's the One \n",
      "Ghost and Mrs. Muir, The \n",
      "Dracula: Dead and Loving It \n",
      "War, The \n",
      "Adventures of Pinocchio, The \n",
      "Evening Star, The \n",
      "Little Princess, A \n",
      "Crossfire \n",
      "Koyaanisqatsi \n",
      "Balto \n",
      "Amateur \n",
      "Pyromaniac's Love Story, A \n",
      "Reality Bites \n",
      "Pagemaster, The \n",
      "Oliver & Company \n",
      "Joe's Apartment \n",
      "Albino Alligator \n",
      "Carried Away \n",
      "Speed 2: Cruise Control \n",
      "Pete's Dragon \n",
      "What Happened Was... \n",
      "Six Degrees of Separation \n",
      "Two Much \n",
      "Trust \n",
      "C'est arrivé près de chez vous \n",
      "Firestorm \n",
      "Newton Boys, The \n",
      "Death and the Maiden \n",
      "Tank Girl \n",
      "Twelfth Night \n",
      "Some Kind of Wonderful \n",
      "Umbrellas of Cherbourg, The (Parapluies de Cherbourg, Les) \n",
      "They Made Me a Criminal \n",
      "Farewell to Arms, A \n",
      "Old Man and the Sea, The \n",
      "Chungking Express \n",
      "Feeling Minnesota \n",
      "Escape to Witch Mountain \n",
      "Doors, The \n",
      "Beautiful Thing \n",
      "Best Men \n",
      "Hackers \n",
      "Hard Eight \n",
      "In Love and War \n",
      "Backbeat \n",
      "Rendezvous in Paris (Rendez-vous de Paris, Les) \n",
      "Cyclo \n",
      "Stalker \n",
      "Love! Valour! Compassion! \n",
      "Palookaville \n",
      "Big Bully \n",
      "Spanking the Monkey \n",
      "Bliss \n",
      "Caught \n",
      "Welcome To Sarajevo \n",
      "I Love Trouble \n",
      "Low Down Dirty Shame, A \n",
      "Cowboy Way, The \n",
      "In the Army Now \n",
      "Inkwell, The \n",
      "Young Guns II \n",
      "That Old Feeling \n",
      "Letter From Death Row, A \n",
      "Once Were Warriors \n",
      "Family Thing, A \n",
      "Purple Noon \n",
      "Cemetery Man (Dellamorte Dellamore) \n",
      "Kim \n",
      "Top Hat \n",
      "To Be or Not to Be \n",
      "Kiss of Death \n",
      "Virtuosity \n",
      "Blue Sky \n",
      "Flesh and Bone \n",
      "Guilty as Sin \n",
      "Barb Wire \n",
      "Goofy Movie, A \n",
      "Night Falls on Manhattan \n",
      "Poison Ivy II \n",
      "Marked for Death \n",
      "Twisted \n",
      "Cutthroat Island \n",
      "Ghost in the Shell (Kokaku kidotai) \n",
      "Van, The \n",
      "Trial and Error \n",
      "Pie in the Sky \n",
      "Love in the Afternoon \n",
      "Talking About Sex \n",
      "Color of Night \n",
      "Robocop 3 \n",
      "Set It Off \n",
      "Selena \n",
      "Wild America \n",
      "Before and After \n",
      "Shall We Dance? \n",
      "Country Life \n",
      "Simple Wish, A \n",
      "Star Kid \n",
      "Kicked in the Head \n",
      "Indian Summer \n",
      "Love Affair \n",
      "Band Wagon, The \n",
      "Penny Serenade \n",
      "'Til There Was You \n",
      "New York Cop \n",
      "Babyfever \n",
      "Waiting to Exhale \n",
      "Pompatus of Love, The \n",
      "Palmetto \n",
      "Surviving the Game \n",
      "Inventing the Abbotts \n",
      "Loaded \n",
      "Midnight Dancers (Sibak) \n",
      "Kazaam \n",
      "Stefano Quantestorie \n",
      "For the Moment \n",
      "Johnny 100 Pesos \n",
      "JLG/JLG - autoportrait de décembre \n",
      "I Can't Sleep (J'ai pas sommeil) \n",
      "Machine, The \n",
      "Hotel de Love \n",
      "Second Jungle Book: Mowgli & Baloo, The \n",
      "Roseanna's Grave (For Roseanna) \n",
      "Stag \n",
      "Picture Bride \n",
      "Caro Diario (Dear Diary) \n",
      "When Night Is Falling \n",
      "Swan Princess, The \n",
      "Barbarella \n",
      "Land Before Time III: The Time of the Great Giving (199\n",
      "Next Karate Kid, The \n",
      "No Escape \n",
      "Highlander III: The Sorcerer \n",
      "Suture \n",
      "Walking Dead, The \n",
      "I Like It Like That \n",
      "I'll Do Anything \n",
      "Grace of My Heart \n",
      "Sliding Doors \n",
      "Men of Means \n",
      "Mr. Jones \n",
      "Jason's Lyric \n",
      "Moonlight and Valentino \n",
      "That Darn Cat! \n",
      "Golden Earrings \n",
      "Lady of Burlesque \n",
      "Angel on My Shoulder \n",
      "Beat the Devil \n",
      "Love Is All There Is \n",
      "Damsel in Distress, A \n",
      "Sleepover \n",
      "Thieves (Voleurs, Les) \n",
      "Last Summer in the Hamptons \n",
      "Tom and Huck \n",
      "Gumby: The Movie \n",
      "Visitors, The (Visiteurs, Les) \n",
      "Little Princess, The \n",
      "Nina Takes a Lover \n",
      "Bhaji on the Beach \n",
      "Nightwatch \n",
      "Dead Presidents \n",
      "Herbie Rides Again \n",
      "Man in the Iron Mask, The \n",
      "Jerky Boys, The \n",
      "Colonel Chabert, Le \n",
      "Even Cowgirls Get the Blues \n",
      "Tough and Deadly \n",
      "Carpool \n",
      "Naked in New York \n",
      "Gold Diggers: The Secret of Bear Mountain \n",
      "Killer: A Journal of Murder \n",
      "Babysitter, The \n",
      "Wings of Courage \n",
      "New Jersey Drive \n",
      "Mr. Wonderful \n",
      "Good Man in Africa, A \n",
      "Object of My Affection, The \n",
      "Witness \n",
      "Far From Home: The Adventures of Yellow Dog \n",
      "Twin Town \n",
      "Amazing Panda Adventure, The \n",
      "Frankie Starlight \n",
      "The Courtyard \n",
      "Underneath, The \n",
      "Secret Adventures of Tom Thumb, The \n",
      "Condition Red \n",
      "Yankee Zulu \n",
      "Hostile Intentions \n",
      "Tigrero: A Film That Was Never Made \n",
      "Vermont Is For Lovers \n",
      "Vie est belle, La (Life is Rosey) \n",
      "Lashou shentan \n",
      "Salut cousin! \n",
      "Shopping \n",
      "Nemesis 2: Nebula \n",
      "Romper Stomper \n",
      "City of Industry \n",
      "He Walked by Night \n",
      "Buddy \n",
      "Truth or Consequences, N.M. \n",
      "Tokyo Fist \n",
      "Reluctant Debutante, The \n",
      "Warriors of Virtue \n",
      "King of New York \n",
      "Nightwatch \n",
      "Nobody Loves Me (Keiner liebt mich) \n",
      "Wife, The \n",
      "Slingshot, The \n",
      "Á köldum klaka (Cold Fever) \n",
      "Normal Life \n",
      "Men With Guns \n",
      "Hana-bi \n",
      "Big One, The \n",
      "Spanish Prisoner, The \n",
      "Favor, The \n",
      "Little City \n",
      "Target \n",
      "Rough Magic \n",
      "Nothing Personal \n",
      "MURDER and murder \n",
      "Tainted \n",
      "Mirage \n",
      "B. Monkey \n",
      "Sliding Doors \n"
     ]
    }
   ],
   "source": [
    "# All Movies with more than one genre\n",
    "\n",
    "for index, genreSum in Genre_Sum.iteritems():\n",
    "  if (genreSum > 1):\n",
    "    print(DFGenre_Movie_Title.loc[index, 'movie title'])\n",
    "    \n",
    "    \n",
    "#849 movies have more than 1 genre which means most do."
   ]
  },
  {
   "cell_type": "code",
   "execution_count": 24,
   "metadata": {},
   "outputs": [],
   "source": [
    "#Univariate plots of columns: 'rating', 'Age', 'release year', 'Gender' and 'Occupation'"
   ]
  },
  {
   "cell_type": "code",
   "execution_count": 25,
   "metadata": {},
   "outputs": [],
   "source": [
    "df_release_year = pd.read_csv('C:/Users/william.tyler/Desktop/my great learning/item.csv')['release date']\n"
   ]
  },
  {
   "cell_type": "code",
   "execution_count": 26,
   "metadata": {},
   "outputs": [],
   "source": [
    "rating = df1['rating']\n",
    "age = df['age']\n",
    "gender = df['gender']\n",
    "occupation = df['occupation']\n",
    "\n",
    "year = \"\"\n",
    "for index, release_date in df_release_year.iteritems():\n",
    "    year = \"19\" + release_date[-2:]\n",
    "    df_release_year[index] = year\n",
    "    \n",
    "df0['release year'] = df_release_year"
   ]
  },
  {
   "cell_type": "code",
   "execution_count": 27,
   "metadata": {
    "scrolled": true
   },
   "outputs": [
    {
     "name": "stdout",
     "output_type": "stream",
     "text": [
      "0       1995\n",
      "1       1995\n",
      "2       1995\n",
      "3       1995\n",
      "4       1995\n",
      "        ... \n",
      "1676    1998\n",
      "1677    1998\n",
      "1678    1998\n",
      "1679    1994\n",
      "1680    1996\n",
      "Name: release date, Length: 1681, dtype: object\n"
     ]
    }
   ],
   "source": [
    "print(df_release_year)"
   ]
  },
  {
   "cell_type": "code",
   "execution_count": 28,
   "metadata": {},
   "outputs": [
    {
     "data": {
      "text/plain": [
       "<seaborn.axisgrid.FacetGrid at 0x2dc1ee9bd60>"
      ]
     },
     "execution_count": 28,
     "metadata": {},
     "output_type": "execute_result"
    },
    {
     "data": {
      "image/png": "[encoded data removed]",
      "text/plain": [
       "<Figure size 360x360 with 1 Axes>"
      ]
     },
     "metadata": {
      "needs_background": "light"
     },
     "output_type": "display_data"
    }
   ],
   "source": [
    "sns.displot(age) # distplot for age"
   ]
  },
  {
   "cell_type": "code",
   "execution_count": 29,
   "metadata": {},
   "outputs": [
    {
     "data": {
      "text/plain": [
       "<AxesSubplot:xlabel='rating', ylabel='count'>"
      ]
     },
     "execution_count": 29,
     "metadata": {},
     "output_type": "execute_result"
    },
    {
     "data": {
      "image/png": "[encoded data removed]",
      "text/plain": [
       "<Figure size 432x288 with 1 Axes>"
      ]
     },
     "metadata": {
      "needs_background": "light"
     },
     "output_type": "display_data"
    }
   ],
   "source": [
    "sns.countplot(data = df1, x='rating')"
   ]
  },
  {
   "cell_type": "code",
   "execution_count": 30,
   "metadata": {},
   "outputs": [
    {
     "data": {
      "text/plain": [
       "<AxesSubplot:xlabel='gender', ylabel='count'>"
      ]
     },
     "execution_count": 30,
     "metadata": {},
     "output_type": "execute_result"
    },
    {
     "data": {
      "image/png": "[encoded data removed]",
      "text/plain": [
       "<Figure size 432x288 with 1 Axes>"
      ]
     },
     "metadata": {
      "needs_background": "light"
     },
     "output_type": "display_data"
    }
   ],
   "source": [
    "sns.countplot(x =\"gender\",data = df)"
   ]
  },
  {
   "cell_type": "code",
   "execution_count": 31,
   "metadata": {},
   "outputs": [
    {
     "data": {
      "image/png": "[encoded data removed]",
      "text/plain": [
       "<Figure size 432x288 with 1 Axes>"
      ]
     },
     "metadata": {
      "needs_background": "light"
     },
     "output_type": "display_data"
    }
   ],
   "source": [
    "sns.countplot(data = df0, x = \"release year\")\n",
    "\n",
    "release_year_plot = sns.countplot(data = df0, x = \"release year\")\n",
    "for ind, label in enumerate(release_year_plot.get_xticklabels()):\n",
    "    if ind % 10 == 0:  # every 10th label is kept\n",
    "        label.set_visible(True)\n",
    "    else:\n",
    "        label.set_visible(False)"
   ]
  },
  {
   "cell_type": "code",
   "execution_count": 32,
   "metadata": {},
   "outputs": [
    {
     "data": {
      "image/png": "[encoded data removed]",
      "text/plain": [
       "<Figure size 432x288 with 1 Axes>"
      ]
     },
     "metadata": {
      "needs_background": "light"
     },
     "output_type": "display_data"
    }
   ],
   "source": [
    "occ_plot = sns.countplot(y='occupation', data=df, orient=\"h\")\n",
    "\n",
    "\n"
   ]
  },
  {
   "cell_type": "code",
   "execution_count": 33,
   "metadata": {},
   "outputs": [],
   "source": [
    "#Question 8 Visualize how popularity of genres has changed over the years"
   ]
  },
  {
   "cell_type": "code",
   "execution_count": 34,
   "metadata": {},
   "outputs": [
    {
     "name": "stdout",
     "output_type": "stream",
     "text": [
      "      unknown  Action  Adventure  Animation  Childrens  Comedy  Crime  \\\n",
      "1922        0       0          0          0          0       0      0   \n",
      "1923        0       0          0          0          0       0      0   \n",
      "1924        0       0          0          0          0       0      0   \n",
      "1925        0       0          0          0          0       0      0   \n",
      "1926        0       0          0          0          0       0      0   \n",
      "...       ...     ...        ...        ...        ...     ...    ...   \n",
      "1995        0       0          0          0          0       0      0   \n",
      "1996        0       0          0          0          0       0      0   \n",
      "1997        0       0          0          0          0       0      0   \n",
      "1998        0       0          0          0          0       0      0   \n",
      "1999        0       0          0          0          0       0      0   \n",
      "\n",
      "      Documentary  Drama  Fantasy  Film-Noir  Horror  Musical  Mystery  \\\n",
      "1922            0      0        0          0       0        0        0   \n",
      "1923            0      0        0          0       0        0        0   \n",
      "1924            0      0        0          0       0        0        0   \n",
      "1925            0      0        0          0       0        0        0   \n",
      "1926            0      0        0          0       0        0        0   \n",
      "...           ...    ...      ...        ...     ...      ...      ...   \n",
      "1995            0      0        0          0       0        0        0   \n",
      "1996            0      0        0          0       0        0        0   \n",
      "1997            0      0        0          0       0        0        0   \n",
      "1998            0      0        0          0       0        0        0   \n",
      "1999            0      0        0          0       0        0        0   \n",
      "\n",
      "      Romance  Sci-Fi  Thriller  War  Western  \n",
      "1922        0       0         0    0        0  \n",
      "1923        0       0         0    0        0  \n",
      "1924        0       0         0    0        0  \n",
      "1925        0       0         0    0        0  \n",
      "1926        0       0         0    0        0  \n",
      "...       ...     ...       ...  ...      ...  \n",
      "1995        0       0         0    0        0  \n",
      "1996        0       0         0    0        0  \n",
      "1997        0       0         0    0        0  \n",
      "1998        0       0         0    0        0  \n",
      "1999        0       0         0    0        0  \n",
      "\n",
      "[78 rows x 19 columns]\n"
     ]
    }
   ],
   "source": [
    "popularity = pd.DataFrame(0, index=range(1922, 2000), columns=df0.columns[3:-1])\n",
    "print(popularity)"
   ]
  },
  {
   "cell_type": "code",
   "execution_count": 35,
   "metadata": {},
   "outputs": [],
   "source": [
    "movies = df0.groupby('release year').count().sort_values('movie id', ascending=True)['movie id']\n",
    "num_movies_per_year = []\n",
    "for i in range(1922, 2000):\n",
    "      if (str(i) in movies.index):\n",
    "       num_movies_per_year.append(movies[str(i)])\n",
    "      else:\n",
    "       num_movies_per_year.append(1)"
   ]
  },
  {
   "cell_type": "code",
   "execution_count": 36,
   "metadata": {},
   "outputs": [
    {
     "name": "stdout",
     "output_type": "stream",
     "text": [
      "      unknown    Action  Adventure  Animation  Childrens    Comedy     Crime  \\\n",
      "1922      0.0  0.000000   0.000000   0.000000   0.000000  0.000000  0.000000   \n",
      "1923      0.0  0.000000   0.000000   0.000000   0.000000  0.000000  0.000000   \n",
      "1924      0.0  0.000000   0.000000   0.000000   0.000000  0.000000  0.000000   \n",
      "1925      0.0  0.000000   0.000000   0.000000   0.000000  0.000000  0.000000   \n",
      "1926      0.0  0.000000   0.000000   0.000000   0.000000  0.000000  0.000000   \n",
      "...       ...       ...        ...        ...        ...       ...       ...   \n",
      "1995      0.0  0.182648   0.100457   0.027397   0.095890  0.287671  0.050228   \n",
      "1996      0.0  0.123944   0.067606   0.025352   0.059155  0.304225  0.059155   \n",
      "1997      0.0  0.160839   0.069930   0.010490   0.076923  0.304196  0.104895   \n",
      "1998      0.0  0.184615   0.046154   0.000000   0.015385  0.200000  0.107692   \n",
      "1999      0.0  0.000000   0.000000   0.000000   0.000000  0.000000  0.000000   \n",
      "\n",
      "      Documentary     Drama   Fantasy  Film-Noir    Horror   Musical  \\\n",
      "1922     0.000000  0.000000  0.000000   0.000000  1.000000  0.000000   \n",
      "1923     0.000000  0.000000  0.000000   0.000000  0.000000  0.000000   \n",
      "1924     0.000000  0.000000  0.000000   0.000000  0.000000  0.000000   \n",
      "1925     0.000000  0.000000  0.000000   0.000000  0.000000  0.000000   \n",
      "1926     0.000000  1.000000  0.000000   0.000000  0.000000  0.000000   \n",
      "...           ...       ...       ...        ...       ...       ...   \n",
      "1995     0.022831  0.406393  0.013699   0.004566  0.063927  0.013699   \n",
      "1996     0.050704  0.478873  0.016901   0.002817  0.030986  0.025352   \n",
      "1997     0.020979  0.395105  0.013986   0.006993  0.027972  0.017483   \n",
      "1998     0.046154  0.507692  0.015385   0.030769  0.061538  0.015385   \n",
      "1999     0.000000  0.000000  0.000000   0.000000  0.000000  0.000000   \n",
      "\n",
      "       Mystery   Romance    Sci-Fi  Thriller       War   Western  \n",
      "1922  0.000000  0.000000  0.000000  0.000000  0.000000  0.000000  \n",
      "1923  0.000000  0.000000  0.000000  0.000000  0.000000  0.000000  \n",
      "1924  0.000000  0.000000  0.000000  0.000000  0.000000  0.000000  \n",
      "1925  0.000000  0.000000  0.000000  0.000000  0.000000  0.000000  \n",
      "1926  0.000000  0.000000  0.000000  0.000000  0.000000  0.000000  \n",
      "...        ...       ...       ...       ...       ...       ...  \n",
      "1995  0.022831  0.168950  0.068493  0.178082  0.022831  0.009132  \n",
      "1996  0.016901  0.107042  0.042254  0.132394  0.025352  0.005634  \n",
      "1997  0.062937  0.178322  0.045455  0.188811  0.048951  0.000000  \n",
      "1998  0.046154  0.169231  0.076923  0.276923  0.000000  0.000000  \n",
      "1999  0.000000  0.000000  0.000000  0.000000  0.000000  0.000000  \n",
      "\n",
      "[78 rows x 19 columns]\n"
     ]
    }
   ],
   "source": [
    "for index, row in df0.iterrows():\n",
    "  for genre in row.index[3:-1]:\n",
    "    if (row[genre] == 1):\n",
    "        popularity.loc[int(row['release year']), genre] += 1\n",
    "popularity = popularity.div(num_movies_per_year, axis=0)\n",
    "print(popularity)\n"
   ]
  },
  {
   "cell_type": "code",
   "execution_count": 37,
   "metadata": {},
   "outputs": [
    {
     "data": {
      "text/plain": [
       "<AxesSubplot:>"
      ]
     },
     "execution_count": 37,
     "metadata": {},
     "output_type": "execute_result"
    },
    {
     "data": {
      "image/png": "[encoded data removed]",
      "text/plain": [
       "<Figure size 432x288 with 2 Axes>"
      ]
     },
     "metadata": {
      "needs_background": "light"
     },
     "output_type": "display_data"
    }
   ],
   "source": [
    "sns.heatmap(popularity)\n",
    "\n"
   ]
  },
  {
   "cell_type": "code",
   "execution_count": 38,
   "metadata": {},
   "outputs": [],
   "source": [
    "#Question 8 observations:\n",
    "\n",
    "#1:outside of \"unknown\", documentary, film-noir & fantasy are least popular in general.\n",
    "#2 western looks to be popular from the early 1940s to mid 1970s.but drops off from there.\n",
    "#3 Drama is most popular genre in general.\n",
    "#4 only movie released in 1922 was a horror film"
   ]
  },
  {
   "cell_type": "code",
   "execution_count": 39,
   "metadata": {},
   "outputs": [],
   "source": [
    "#Question 9:  Find the top 25 movies in terms of average ratings for movies that have been rated more than 100 times"
   ]
  },
  {
   "cell_type": "code",
   "execution_count": 40,
   "metadata": {},
   "outputs": [],
   "source": [
    "movies = df1.groupby('movie id')\n",
    "df4 = pd.DataFrame(columns=['movie title', 'rating'])"
   ]
  },
  {
   "cell_type": "code",
   "execution_count": 41,
   "metadata": {},
   "outputs": [
    {
     "name": "stdout",
     "output_type": "stream",
     "text": [
      "                                    rating\n",
      "movie title                               \n",
      "That Thing You Do!                4.491071\n",
      "Good, The Bad and The Ugly, The   4.466102\n",
      "Fargo                             4.358491\n",
      "Abyss, The                        4.344000\n",
      "Pump Up the Volume                4.292929\n",
      "Full Metal Jacket                 4.292237\n",
      "Peacemaker, The                   4.291667\n",
      "Ice Storm, The                    4.284916\n",
      "Amistad                           4.283293\n",
      "Rudy                              4.265432\n",
      "Stand by Me                       4.259542\n",
      "Pinocchio                         4.251397\n",
      "Home Alone                        4.231214\n",
      "Devil in a Blue Dress             4.210145\n",
      "Monty Python and the Holy Grail   4.203980\n",
      "Wag the Dog                       4.198529\n",
      "Jackie Chan's First Strike        4.186603\n",
      "When Harry Met Sally...           4.175758\n",
      "Four Rooms                        4.161616\n",
      "One Flew Over the Cuckoo's Nest   4.142105\n",
      "Sword in the Stone, The           4.138182\n",
      "Get Shorty                        4.133785\n",
      "Bridges of Madison County, The    4.132231\n",
      "Grumpier Old Men                  4.131280\n",
      "Trainspotting                     4.121212\n"
     ]
    }
   ],
   "source": [
    "for index, movie in movies:\n",
    "  movie_id = df1.loc[index, 'movie id']\n",
    "  if (movie.count()['user id'] >= 100):\n",
    "    movie_title = df0[df0['movie id'] == movie_id]['movie title'].iloc[0]\n",
    "    df4 = df4.append({'movie title': movie_title, 'rating': movie.mean()['rating']}, ignore_index=True) \n",
    "df4 = df4.groupby('movie title').mean()\n",
    "df4 = df4.sort_values(by=['rating'], ascending=False).iloc[:25]\n",
    "print(df4)"
   ]
  },
  {
   "cell_type": "code",
   "execution_count": 42,
   "metadata": {},
   "outputs": [],
   "source": [
    "#Question 9\n",
    "\n",
    "#Men watch more drama than women\n",
    "#Women watch more Sci-Fi than men\n",
    "#Men watch more Romance than women\n"
   ]
  },
  {
   "cell_type": "code",
   "execution_count": 43,
   "metadata": {},
   "outputs": [
    {
     "name": "stdout",
     "output_type": "stream",
     "text": [
      "670 273\n"
     ]
    }
   ],
   "source": [
    "\n",
    "genders = df.groupby('gender').count()\n",
    "total_male = genders.iloc[1, 0]\n",
    "total_female = genders.iloc[0, 0]\n",
    "print(total_male, total_female)"
   ]
  },
  {
   "cell_type": "code",
   "execution_count": 44,
   "metadata": {},
   "outputs": [],
   "source": [
    "#there are 670 men\n",
    "#there are 273 women"
   ]
  },
  {
   "cell_type": "code",
   "execution_count": 45,
   "metadata": {},
   "outputs": [],
   "source": [
    "drama = {\n",
    "  'M': 0,\n",
    "  'F': 0\n",
    "}\n",
    "\n",
    "scifi = {\n",
    "  'M': 0,\n",
    "  'F': 0\n",
    "}\n",
    "\n",
    "romance = {\n",
    "  'M': 0,\n",
    "  'F': 0\n",
    "}"
   ]
  },
  {
   "cell_type": "code",
   "execution_count": 46,
   "metadata": {},
   "outputs": [],
   "source": [
    "for index, review in movies:\n",
    "  movie_id = df1.loc[index, 'movie id']\n",
    "  user_id = df1.loc[index, 'user id']\n",
    "  gender = df.loc[df['user id'] == user_id]['gender'].iloc[0]\n",
    "  if df0.loc[movie_id, 'Drama'] == 1:\n",
    "    drama[gender] += 1\n",
    "  elif df0.loc[movie_id, 'Sci-Fi'] == 1:\n",
    "    scifi[gender] += 1\n",
    "  elif df0.loc[movie_id, 'Romance'] == 1:\n",
    "    romance[gender] += 1\n",
    "  "
   ]
  },
  {
   "cell_type": "code",
   "execution_count": 47,
   "metadata": {},
   "outputs": [
    {
     "name": "stdout",
     "output_type": "stream",
     "text": [
      "{'M': 515, 'F': 135}\n",
      "{'M': 120, 'F': 35}\n",
      "{'M': 146, 'F': 33}\n"
     ]
    }
   ],
   "source": [
    "print(drama)\n",
    "print(scifi)\n",
    "print(romance)"
   ]
  },
  {
   "cell_type": "code",
   "execution_count": 48,
   "metadata": {},
   "outputs": [],
   "source": [
    "#Men watch more drama than women\n",
    "\n",
    "male_drama_percent = 515/670\n",
    "\n",
    "female_drama_percent = 135/273\n",
    "\n",
    "male_scifi_percent = 120/670\n",
    "\n",
    "female_scifi_percent = 35/273\n",
    "\n",
    "male_romance_percent = 146/670\n",
    "\n",
    "female_romance_percent = 33/273"
   ]
  },
  {
   "cell_type": "code",
   "execution_count": 49,
   "metadata": {},
   "outputs": [
    {
     "name": "stdout",
     "output_type": "stream",
     "text": [
      "0.4945054945054945\n",
      "0.7686567164179104\n"
     ]
    }
   ],
   "source": [
    "# Do men watch more drama than women?\n",
    "print (female_drama_percent)\n",
    "print (male_drama_percent)\n",
    "\n",
    "#men watch drama more than women. Almost 50% of women watch drama and men watch drama almost 77% of the time."
   ]
  },
  {
   "cell_type": "code",
   "execution_count": 50,
   "metadata": {},
   "outputs": [
    {
     "name": "stdout",
     "output_type": "stream",
     "text": [
      "0.1791044776119403\n",
      "0.1282051282051282\n"
     ]
    }
   ],
   "source": [
    "#Do women watch more Sci-Fi than men\n",
    "\n",
    "print (male_scifi_percent)\n",
    "print (female_scifi_percent)\n",
    "#almost 18% of men watch scifi while nearly 13% of women do. So this is not true. Women do not watch more scifi than men."
   ]
  },
  {
   "cell_type": "code",
   "execution_count": 51,
   "metadata": {},
   "outputs": [
    {
     "name": "stdout",
     "output_type": "stream",
     "text": [
      "0.21791044776119403\n",
      "0.12087912087912088\n"
     ]
    }
   ],
   "source": [
    "#Do men watch more romance than women?\n",
    "\n",
    "print (male_romance_percent)\n",
    "print (female_romance_percent)\n",
    "\n",
    "#Men watch more romance than women. Nearly 22% of men watch romance and approx 12% of women watch romance.\n"
   ]
  },
  {
   "cell_type": "code",
   "execution_count": 52,
   "metadata": {},
   "outputs": [],
   "source": [
    "#Conclusion:\n",
    "\n",
    "#please refer to insights/observations to help interpret the data set(s)"
   ]
  }
 ],
 "metadata": {
  "kernelspec": {
   "display_name": "Python 3",
   "language": "python",
   "name": "python3"
  },
  "language_info": {
   "codemirror_mode": {
    "name": "ipython",
    "version": 3
   },
   "file_extension": ".py",
   "mimetype": "text/x-python",
   "name": "python",
   "nbconvert_exporter": "python",
   "pygments_lexer": "ipython3",
   "version": "3.8.5"
  }
 },
 "nbformat": 4,
 "nbformat_minor": 4
}
